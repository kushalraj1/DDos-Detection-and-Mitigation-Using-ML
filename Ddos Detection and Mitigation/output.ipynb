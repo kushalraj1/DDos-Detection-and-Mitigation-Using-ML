{
 "cells": [
  {
   "cell_type": "markdown",
   "metadata": {},
   "source": [
    "Platform to detect DDoS attack"
   ]
  },
  {
   "cell_type": "code",
   "execution_count": 3,
   "metadata": {},
   "outputs": [
    {
     "name": "stdout",
     "output_type": "stream",
     "text": [
      "Requirement already satisfied: pandas in d:\\anaconda\\lib\\site-packages (2.0.3)\n",
      "Requirement already satisfied: numpy in d:\\anaconda\\lib\\site-packages (1.24.3)\n",
      "Requirement already satisfied: matplotlib in d:\\anaconda\\lib\\site-packages (3.7.2)\n",
      "Requirement already satisfied: seaborn in d:\\anaconda\\lib\\site-packages (0.12.2)\n",
      "Requirement already satisfied: scikit-learn in d:\\anaconda\\lib\\site-packages (1.3.0)\n",
      "Requirement already satisfied: python-dateutil>=2.8.2 in d:\\anaconda\\lib\\site-packages (from pandas) (2.8.2)\n",
      "Requirement already satisfied: pytz>=2020.1 in d:\\anaconda\\lib\\site-packages (from pandas) (2023.3.post1)\n",
      "Requirement already satisfied: tzdata>=2022.1 in d:\\anaconda\\lib\\site-packages (from pandas) (2023.3)\n",
      "Requirement already satisfied: contourpy>=1.0.1 in d:\\anaconda\\lib\\site-packages (from matplotlib) (1.0.5)\n",
      "Requirement already satisfied: cycler>=0.10 in d:\\anaconda\\lib\\site-packages (from matplotlib) (0.11.0)\n",
      "Requirement already satisfied: fonttools>=4.22.0 in d:\\anaconda\\lib\\site-packages (from matplotlib) (4.25.0)\n",
      "Requirement already satisfied: kiwisolver>=1.0.1 in d:\\anaconda\\lib\\site-packages (from matplotlib) (1.4.4)\n",
      "Requirement already satisfied: packaging>=20.0 in d:\\anaconda\\lib\\site-packages (from matplotlib) (23.1)\n",
      "Requirement already satisfied: pillow>=6.2.0 in d:\\anaconda\\lib\\site-packages (from matplotlib) (9.4.0)\n",
      "Requirement already satisfied: pyparsing<3.1,>=2.3.1 in d:\\anaconda\\lib\\site-packages (from matplotlib) (3.0.9)\n",
      "Requirement already satisfied: scipy>=1.5.0 in d:\\anaconda\\lib\\site-packages (from scikit-learn) (1.11.1)\n",
      "Requirement already satisfied: joblib>=1.1.1 in d:\\anaconda\\lib\\site-packages (from scikit-learn) (1.2.0)\n",
      "Requirement already satisfied: threadpoolctl>=2.0.0 in d:\\anaconda\\lib\\site-packages (from scikit-learn) (2.2.0)\n",
      "Requirement already satisfied: six>=1.5 in d:\\anaconda\\lib\\site-packages (from python-dateutil>=2.8.2->pandas) (1.16.0)\n",
      "Note: you may need to restart the kernel to use updated packages.\n"
     ]
    }
   ],
   "source": [
    "pip install pandas numpy matplotlib seaborn scikit-learn"
   ]
  },
  {
   "cell_type": "code",
   "execution_count": 4,
   "metadata": {},
   "outputs": [],
   "source": [
    "import pandas as pd\n",
    "import numpy as np\n",
    "import matplotlib.pyplot as plt\n",
    "import seaborn as sns\n",
    "\n",
    "from sklearn import metrics"
   ]
  },
  {
   "cell_type": "markdown",
   "metadata": {},
   "source": [
    "Importing dataset"
   ]
  },
  {
   "cell_type": "code",
   "execution_count": 5,
   "metadata": {},
   "outputs": [
    {
     "data": {
      "text/html": [
       "<div>\n",
       "<style scoped>\n",
       "    .dataframe tbody tr th:only-of-type {\n",
       "        vertical-align: middle;\n",
       "    }\n",
       "\n",
       "    .dataframe tbody tr th {\n",
       "        vertical-align: top;\n",
       "    }\n",
       "\n",
       "    .dataframe thead th {\n",
       "        text-align: right;\n",
       "    }\n",
       "</style>\n",
       "<table border=\"1\" class=\"dataframe\">\n",
       "  <thead>\n",
       "    <tr style=\"text-align: right;\">\n",
       "      <th></th>\n",
       "      <th>dt</th>\n",
       "      <th>switch</th>\n",
       "      <th>src</th>\n",
       "      <th>dst</th>\n",
       "      <th>pktcount</th>\n",
       "      <th>bytecount</th>\n",
       "      <th>dur</th>\n",
       "      <th>dur_nsec</th>\n",
       "      <th>tot_dur</th>\n",
       "      <th>flows</th>\n",
       "      <th>...</th>\n",
       "      <th>pktrate</th>\n",
       "      <th>Pairflow</th>\n",
       "      <th>Protocol</th>\n",
       "      <th>port_no</th>\n",
       "      <th>tx_bytes</th>\n",
       "      <th>rx_bytes</th>\n",
       "      <th>tx_kbps</th>\n",
       "      <th>rx_kbps</th>\n",
       "      <th>tot_kbps</th>\n",
       "      <th>label</th>\n",
       "    </tr>\n",
       "  </thead>\n",
       "  <tbody>\n",
       "    <tr>\n",
       "      <th>0</th>\n",
       "      <td>11425</td>\n",
       "      <td>1</td>\n",
       "      <td>10.0.0.1</td>\n",
       "      <td>10.0.0.8</td>\n",
       "      <td>45304</td>\n",
       "      <td>48294064</td>\n",
       "      <td>100</td>\n",
       "      <td>716000000</td>\n",
       "      <td>1.010000e+11</td>\n",
       "      <td>3</td>\n",
       "      <td>...</td>\n",
       "      <td>451</td>\n",
       "      <td>0</td>\n",
       "      <td>UDP</td>\n",
       "      <td>3</td>\n",
       "      <td>143928631</td>\n",
       "      <td>3917</td>\n",
       "      <td>0</td>\n",
       "      <td>0.0</td>\n",
       "      <td>0.0</td>\n",
       "      <td>0</td>\n",
       "    </tr>\n",
       "    <tr>\n",
       "      <th>1</th>\n",
       "      <td>11605</td>\n",
       "      <td>1</td>\n",
       "      <td>10.0.0.1</td>\n",
       "      <td>10.0.0.8</td>\n",
       "      <td>126395</td>\n",
       "      <td>134737070</td>\n",
       "      <td>280</td>\n",
       "      <td>734000000</td>\n",
       "      <td>2.810000e+11</td>\n",
       "      <td>2</td>\n",
       "      <td>...</td>\n",
       "      <td>451</td>\n",
       "      <td>0</td>\n",
       "      <td>UDP</td>\n",
       "      <td>4</td>\n",
       "      <td>3842</td>\n",
       "      <td>3520</td>\n",
       "      <td>0</td>\n",
       "      <td>0.0</td>\n",
       "      <td>0.0</td>\n",
       "      <td>0</td>\n",
       "    </tr>\n",
       "    <tr>\n",
       "      <th>2</th>\n",
       "      <td>11425</td>\n",
       "      <td>1</td>\n",
       "      <td>10.0.0.2</td>\n",
       "      <td>10.0.0.8</td>\n",
       "      <td>90333</td>\n",
       "      <td>96294978</td>\n",
       "      <td>200</td>\n",
       "      <td>744000000</td>\n",
       "      <td>2.010000e+11</td>\n",
       "      <td>3</td>\n",
       "      <td>...</td>\n",
       "      <td>451</td>\n",
       "      <td>0</td>\n",
       "      <td>UDP</td>\n",
       "      <td>1</td>\n",
       "      <td>3795</td>\n",
       "      <td>1242</td>\n",
       "      <td>0</td>\n",
       "      <td>0.0</td>\n",
       "      <td>0.0</td>\n",
       "      <td>0</td>\n",
       "    </tr>\n",
       "    <tr>\n",
       "      <th>3</th>\n",
       "      <td>11425</td>\n",
       "      <td>1</td>\n",
       "      <td>10.0.0.2</td>\n",
       "      <td>10.0.0.8</td>\n",
       "      <td>90333</td>\n",
       "      <td>96294978</td>\n",
       "      <td>200</td>\n",
       "      <td>744000000</td>\n",
       "      <td>2.010000e+11</td>\n",
       "      <td>3</td>\n",
       "      <td>...</td>\n",
       "      <td>451</td>\n",
       "      <td>0</td>\n",
       "      <td>UDP</td>\n",
       "      <td>2</td>\n",
       "      <td>3688</td>\n",
       "      <td>1492</td>\n",
       "      <td>0</td>\n",
       "      <td>0.0</td>\n",
       "      <td>0.0</td>\n",
       "      <td>0</td>\n",
       "    </tr>\n",
       "    <tr>\n",
       "      <th>4</th>\n",
       "      <td>11425</td>\n",
       "      <td>1</td>\n",
       "      <td>10.0.0.2</td>\n",
       "      <td>10.0.0.8</td>\n",
       "      <td>90333</td>\n",
       "      <td>96294978</td>\n",
       "      <td>200</td>\n",
       "      <td>744000000</td>\n",
       "      <td>2.010000e+11</td>\n",
       "      <td>3</td>\n",
       "      <td>...</td>\n",
       "      <td>451</td>\n",
       "      <td>0</td>\n",
       "      <td>UDP</td>\n",
       "      <td>3</td>\n",
       "      <td>3413</td>\n",
       "      <td>3665</td>\n",
       "      <td>0</td>\n",
       "      <td>0.0</td>\n",
       "      <td>0.0</td>\n",
       "      <td>0</td>\n",
       "    </tr>\n",
       "    <tr>\n",
       "      <th>...</th>\n",
       "      <td>...</td>\n",
       "      <td>...</td>\n",
       "      <td>...</td>\n",
       "      <td>...</td>\n",
       "      <td>...</td>\n",
       "      <td>...</td>\n",
       "      <td>...</td>\n",
       "      <td>...</td>\n",
       "      <td>...</td>\n",
       "      <td>...</td>\n",
       "      <td>...</td>\n",
       "      <td>...</td>\n",
       "      <td>...</td>\n",
       "      <td>...</td>\n",
       "      <td>...</td>\n",
       "      <td>...</td>\n",
       "      <td>...</td>\n",
       "      <td>...</td>\n",
       "      <td>...</td>\n",
       "      <td>...</td>\n",
       "      <td>...</td>\n",
       "    </tr>\n",
       "    <tr>\n",
       "      <th>104340</th>\n",
       "      <td>5262</td>\n",
       "      <td>3</td>\n",
       "      <td>10.0.0.5</td>\n",
       "      <td>10.0.0.7</td>\n",
       "      <td>79</td>\n",
       "      <td>7742</td>\n",
       "      <td>81</td>\n",
       "      <td>842000000</td>\n",
       "      <td>8.184200e+10</td>\n",
       "      <td>5</td>\n",
       "      <td>...</td>\n",
       "      <td>0</td>\n",
       "      <td>0</td>\n",
       "      <td>ICMP</td>\n",
       "      <td>1</td>\n",
       "      <td>15209</td>\n",
       "      <td>12720</td>\n",
       "      <td>1</td>\n",
       "      <td>1.0</td>\n",
       "      <td>2.0</td>\n",
       "      <td>0</td>\n",
       "    </tr>\n",
       "    <tr>\n",
       "      <th>104341</th>\n",
       "      <td>5262</td>\n",
       "      <td>3</td>\n",
       "      <td>10.0.0.5</td>\n",
       "      <td>10.0.0.7</td>\n",
       "      <td>79</td>\n",
       "      <td>7742</td>\n",
       "      <td>81</td>\n",
       "      <td>842000000</td>\n",
       "      <td>8.184200e+10</td>\n",
       "      <td>5</td>\n",
       "      <td>...</td>\n",
       "      <td>0</td>\n",
       "      <td>0</td>\n",
       "      <td>ICMP</td>\n",
       "      <td>3</td>\n",
       "      <td>15099</td>\n",
       "      <td>14693</td>\n",
       "      <td>1</td>\n",
       "      <td>1.0</td>\n",
       "      <td>2.0</td>\n",
       "      <td>0</td>\n",
       "    </tr>\n",
       "    <tr>\n",
       "      <th>104342</th>\n",
       "      <td>5262</td>\n",
       "      <td>3</td>\n",
       "      <td>10.0.0.11</td>\n",
       "      <td>10.0.0.5</td>\n",
       "      <td>31</td>\n",
       "      <td>3038</td>\n",
       "      <td>31</td>\n",
       "      <td>805000000</td>\n",
       "      <td>3.180500e+10</td>\n",
       "      <td>5</td>\n",
       "      <td>...</td>\n",
       "      <td>1</td>\n",
       "      <td>0</td>\n",
       "      <td>ICMP</td>\n",
       "      <td>2</td>\n",
       "      <td>3409</td>\n",
       "      <td>3731</td>\n",
       "      <td>0</td>\n",
       "      <td>0.0</td>\n",
       "      <td>0.0</td>\n",
       "      <td>0</td>\n",
       "    </tr>\n",
       "    <tr>\n",
       "      <th>104343</th>\n",
       "      <td>5262</td>\n",
       "      <td>3</td>\n",
       "      <td>10.0.0.11</td>\n",
       "      <td>10.0.0.5</td>\n",
       "      <td>31</td>\n",
       "      <td>3038</td>\n",
       "      <td>31</td>\n",
       "      <td>805000000</td>\n",
       "      <td>3.180500e+10</td>\n",
       "      <td>5</td>\n",
       "      <td>...</td>\n",
       "      <td>1</td>\n",
       "      <td>0</td>\n",
       "      <td>ICMP</td>\n",
       "      <td>1</td>\n",
       "      <td>15209</td>\n",
       "      <td>12720</td>\n",
       "      <td>1</td>\n",
       "      <td>1.0</td>\n",
       "      <td>2.0</td>\n",
       "      <td>0</td>\n",
       "    </tr>\n",
       "    <tr>\n",
       "      <th>104344</th>\n",
       "      <td>5262</td>\n",
       "      <td>3</td>\n",
       "      <td>10.0.0.11</td>\n",
       "      <td>10.0.0.5</td>\n",
       "      <td>31</td>\n",
       "      <td>3038</td>\n",
       "      <td>31</td>\n",
       "      <td>805000000</td>\n",
       "      <td>3.180500e+10</td>\n",
       "      <td>5</td>\n",
       "      <td>...</td>\n",
       "      <td>1</td>\n",
       "      <td>0</td>\n",
       "      <td>ICMP</td>\n",
       "      <td>3</td>\n",
       "      <td>15099</td>\n",
       "      <td>14693</td>\n",
       "      <td>1</td>\n",
       "      <td>1.0</td>\n",
       "      <td>2.0</td>\n",
       "      <td>0</td>\n",
       "    </tr>\n",
       "  </tbody>\n",
       "</table>\n",
       "<p>104345 rows × 23 columns</p>\n",
       "</div>"
      ],
      "text/plain": [
       "           dt  switch        src       dst  pktcount  bytecount  dur  \\\n",
       "0       11425       1   10.0.0.1  10.0.0.8     45304   48294064  100   \n",
       "1       11605       1   10.0.0.1  10.0.0.8    126395  134737070  280   \n",
       "2       11425       1   10.0.0.2  10.0.0.8     90333   96294978  200   \n",
       "3       11425       1   10.0.0.2  10.0.0.8     90333   96294978  200   \n",
       "4       11425       1   10.0.0.2  10.0.0.8     90333   96294978  200   \n",
       "...       ...     ...        ...       ...       ...        ...  ...   \n",
       "104340   5262       3   10.0.0.5  10.0.0.7        79       7742   81   \n",
       "104341   5262       3   10.0.0.5  10.0.0.7        79       7742   81   \n",
       "104342   5262       3  10.0.0.11  10.0.0.5        31       3038   31   \n",
       "104343   5262       3  10.0.0.11  10.0.0.5        31       3038   31   \n",
       "104344   5262       3  10.0.0.11  10.0.0.5        31       3038   31   \n",
       "\n",
       "         dur_nsec       tot_dur  flows  ...  pktrate  Pairflow  Protocol  \\\n",
       "0       716000000  1.010000e+11      3  ...      451         0       UDP   \n",
       "1       734000000  2.810000e+11      2  ...      451         0       UDP   \n",
       "2       744000000  2.010000e+11      3  ...      451         0       UDP   \n",
       "3       744000000  2.010000e+11      3  ...      451         0       UDP   \n",
       "4       744000000  2.010000e+11      3  ...      451         0       UDP   \n",
       "...           ...           ...    ...  ...      ...       ...       ...   \n",
       "104340  842000000  8.184200e+10      5  ...        0         0      ICMP   \n",
       "104341  842000000  8.184200e+10      5  ...        0         0      ICMP   \n",
       "104342  805000000  3.180500e+10      5  ...        1         0      ICMP   \n",
       "104343  805000000  3.180500e+10      5  ...        1         0      ICMP   \n",
       "104344  805000000  3.180500e+10      5  ...        1         0      ICMP   \n",
       "\n",
       "        port_no   tx_bytes rx_bytes  tx_kbps  rx_kbps  tot_kbps  label  \n",
       "0             3  143928631     3917        0      0.0       0.0      0  \n",
       "1             4       3842     3520        0      0.0       0.0      0  \n",
       "2             1       3795     1242        0      0.0       0.0      0  \n",
       "3             2       3688     1492        0      0.0       0.0      0  \n",
       "4             3       3413     3665        0      0.0       0.0      0  \n",
       "...         ...        ...      ...      ...      ...       ...    ...  \n",
       "104340        1      15209    12720        1      1.0       2.0      0  \n",
       "104341        3      15099    14693        1      1.0       2.0      0  \n",
       "104342        2       3409     3731        0      0.0       0.0      0  \n",
       "104343        1      15209    12720        1      1.0       2.0      0  \n",
       "104344        3      15099    14693        1      1.0       2.0      0  \n",
       "\n",
       "[104345 rows x 23 columns]"
      ]
     },
     "execution_count": 5,
     "metadata": {},
     "output_type": "execute_result"
    }
   ],
   "source": [
    "df=pd.read_csv(\"dataset_sdn.csv\")\n",
    "df"
   ]
  },
  {
   "cell_type": "markdown",
   "metadata": {},
   "source": [
    "Data Processing"
   ]
  },
  {
   "cell_type": "code",
   "execution_count": 6,
   "metadata": {},
   "outputs": [
    {
     "name": "stdout",
     "output_type": "stream",
     "text": [
      "<class 'pandas.core.frame.DataFrame'>\n",
      "RangeIndex: 104345 entries, 0 to 104344\n",
      "Data columns (total 23 columns):\n",
      " #   Column       Non-Null Count   Dtype  \n",
      "---  ------       --------------   -----  \n",
      " 0   dt           104345 non-null  int64  \n",
      " 1   switch       104345 non-null  int64  \n",
      " 2   src          104345 non-null  object \n",
      " 3   dst          104345 non-null  object \n",
      " 4   pktcount     104345 non-null  int64  \n",
      " 5   bytecount    104345 non-null  int64  \n",
      " 6   dur          104345 non-null  int64  \n",
      " 7   dur_nsec     104345 non-null  int64  \n",
      " 8   tot_dur      104345 non-null  float64\n",
      " 9   flows        104345 non-null  int64  \n",
      " 10  packetins    104345 non-null  int64  \n",
      " 11  pktperflow   104345 non-null  int64  \n",
      " 12  byteperflow  104345 non-null  int64  \n",
      " 13  pktrate      104345 non-null  int64  \n",
      " 14  Pairflow     104345 non-null  int64  \n",
      " 15  Protocol     104345 non-null  object \n",
      " 16  port_no      104345 non-null  int64  \n",
      " 17  tx_bytes     104345 non-null  int64  \n",
      " 18  rx_bytes     104345 non-null  int64  \n",
      " 19  tx_kbps      104345 non-null  int64  \n",
      " 20  rx_kbps      103839 non-null  float64\n",
      " 21  tot_kbps     103839 non-null  float64\n",
      " 22  label        104345 non-null  int64  \n",
      "dtypes: float64(3), int64(17), object(3)\n",
      "memory usage: 18.3+ MB\n"
     ]
    }
   ],
   "source": [
    "df.info()"
   ]
  },
  {
   "cell_type": "code",
   "execution_count": 7,
   "metadata": {},
   "outputs": [
    {
     "data": {
      "text/html": [
       "<div>\n",
       "<style scoped>\n",
       "    .dataframe tbody tr th:only-of-type {\n",
       "        vertical-align: middle;\n",
       "    }\n",
       "\n",
       "    .dataframe tbody tr th {\n",
       "        vertical-align: top;\n",
       "    }\n",
       "\n",
       "    .dataframe thead th {\n",
       "        text-align: right;\n",
       "    }\n",
       "</style>\n",
       "<table border=\"1\" class=\"dataframe\">\n",
       "  <thead>\n",
       "    <tr style=\"text-align: right;\">\n",
       "      <th></th>\n",
       "      <th>dt</th>\n",
       "      <th>switch</th>\n",
       "      <th>pktcount</th>\n",
       "      <th>bytecount</th>\n",
       "      <th>dur</th>\n",
       "      <th>dur_nsec</th>\n",
       "      <th>tot_dur</th>\n",
       "      <th>flows</th>\n",
       "      <th>packetins</th>\n",
       "      <th>pktperflow</th>\n",
       "      <th>byteperflow</th>\n",
       "      <th>pktrate</th>\n",
       "      <th>Pairflow</th>\n",
       "      <th>port_no</th>\n",
       "      <th>tx_bytes</th>\n",
       "      <th>rx_bytes</th>\n",
       "      <th>tx_kbps</th>\n",
       "      <th>rx_kbps</th>\n",
       "      <th>tot_kbps</th>\n",
       "      <th>label</th>\n",
       "    </tr>\n",
       "  </thead>\n",
       "  <tbody>\n",
       "    <tr>\n",
       "      <th>count</th>\n",
       "      <td>104345.000000</td>\n",
       "      <td>104345.000000</td>\n",
       "      <td>104345.000000</td>\n",
       "      <td>1.043450e+05</td>\n",
       "      <td>104345.000000</td>\n",
       "      <td>1.043450e+05</td>\n",
       "      <td>1.043450e+05</td>\n",
       "      <td>104345.000000</td>\n",
       "      <td>104345.000000</td>\n",
       "      <td>104345.000000</td>\n",
       "      <td>1.043450e+05</td>\n",
       "      <td>104345.000000</td>\n",
       "      <td>104345.000000</td>\n",
       "      <td>104345.000000</td>\n",
       "      <td>1.043450e+05</td>\n",
       "      <td>1.043450e+05</td>\n",
       "      <td>104345.000000</td>\n",
       "      <td>103839.000000</td>\n",
       "      <td>103839.000000</td>\n",
       "      <td>104345.000000</td>\n",
       "    </tr>\n",
       "    <tr>\n",
       "      <th>mean</th>\n",
       "      <td>17927.514169</td>\n",
       "      <td>4.214260</td>\n",
       "      <td>52860.954746</td>\n",
       "      <td>3.818660e+07</td>\n",
       "      <td>321.497398</td>\n",
       "      <td>4.613880e+08</td>\n",
       "      <td>3.218865e+11</td>\n",
       "      <td>5.654234</td>\n",
       "      <td>5200.383468</td>\n",
       "      <td>6381.715291</td>\n",
       "      <td>4.716150e+06</td>\n",
       "      <td>212.210676</td>\n",
       "      <td>0.600987</td>\n",
       "      <td>2.331094</td>\n",
       "      <td>9.325264e+07</td>\n",
       "      <td>9.328039e+07</td>\n",
       "      <td>998.899756</td>\n",
       "      <td>1003.811420</td>\n",
       "      <td>2007.578742</td>\n",
       "      <td>0.390857</td>\n",
       "    </tr>\n",
       "    <tr>\n",
       "      <th>std</th>\n",
       "      <td>11977.642655</td>\n",
       "      <td>1.956327</td>\n",
       "      <td>52023.241460</td>\n",
       "      <td>4.877748e+07</td>\n",
       "      <td>283.518232</td>\n",
       "      <td>2.770019e+08</td>\n",
       "      <td>2.834029e+11</td>\n",
       "      <td>2.950036</td>\n",
       "      <td>5257.001450</td>\n",
       "      <td>7404.777808</td>\n",
       "      <td>7.560116e+06</td>\n",
       "      <td>246.855123</td>\n",
       "      <td>0.489698</td>\n",
       "      <td>1.084333</td>\n",
       "      <td>1.519380e+08</td>\n",
       "      <td>1.330004e+08</td>\n",
       "      <td>2423.471618</td>\n",
       "      <td>2054.887034</td>\n",
       "      <td>3144.437173</td>\n",
       "      <td>0.487945</td>\n",
       "    </tr>\n",
       "    <tr>\n",
       "      <th>min</th>\n",
       "      <td>2488.000000</td>\n",
       "      <td>1.000000</td>\n",
       "      <td>0.000000</td>\n",
       "      <td>0.000000e+00</td>\n",
       "      <td>0.000000</td>\n",
       "      <td>0.000000e+00</td>\n",
       "      <td>0.000000e+00</td>\n",
       "      <td>2.000000</td>\n",
       "      <td>4.000000</td>\n",
       "      <td>-130933.000000</td>\n",
       "      <td>-1.464426e+08</td>\n",
       "      <td>-4365.000000</td>\n",
       "      <td>0.000000</td>\n",
       "      <td>1.000000</td>\n",
       "      <td>2.527000e+03</td>\n",
       "      <td>8.560000e+02</td>\n",
       "      <td>0.000000</td>\n",
       "      <td>0.000000</td>\n",
       "      <td>0.000000</td>\n",
       "      <td>0.000000</td>\n",
       "    </tr>\n",
       "    <tr>\n",
       "      <th>25%</th>\n",
       "      <td>7098.000000</td>\n",
       "      <td>3.000000</td>\n",
       "      <td>808.000000</td>\n",
       "      <td>7.957600e+04</td>\n",
       "      <td>127.000000</td>\n",
       "      <td>2.340000e+08</td>\n",
       "      <td>1.270000e+11</td>\n",
       "      <td>3.000000</td>\n",
       "      <td>1943.000000</td>\n",
       "      <td>29.000000</td>\n",
       "      <td>2.842000e+03</td>\n",
       "      <td>0.000000</td>\n",
       "      <td>0.000000</td>\n",
       "      <td>1.000000</td>\n",
       "      <td>4.743000e+03</td>\n",
       "      <td>3.539000e+03</td>\n",
       "      <td>0.000000</td>\n",
       "      <td>0.000000</td>\n",
       "      <td>0.000000</td>\n",
       "      <td>0.000000</td>\n",
       "    </tr>\n",
       "    <tr>\n",
       "      <th>50%</th>\n",
       "      <td>11905.000000</td>\n",
       "      <td>4.000000</td>\n",
       "      <td>42828.000000</td>\n",
       "      <td>6.471930e+06</td>\n",
       "      <td>251.000000</td>\n",
       "      <td>4.180000e+08</td>\n",
       "      <td>2.520000e+11</td>\n",
       "      <td>5.000000</td>\n",
       "      <td>3024.000000</td>\n",
       "      <td>8305.000000</td>\n",
       "      <td>5.521680e+05</td>\n",
       "      <td>276.000000</td>\n",
       "      <td>1.000000</td>\n",
       "      <td>2.000000</td>\n",
       "      <td>4.219610e+06</td>\n",
       "      <td>1.338339e+07</td>\n",
       "      <td>0.000000</td>\n",
       "      <td>0.000000</td>\n",
       "      <td>4.000000</td>\n",
       "      <td>0.000000</td>\n",
       "    </tr>\n",
       "    <tr>\n",
       "      <th>75%</th>\n",
       "      <td>29952.000000</td>\n",
       "      <td>5.000000</td>\n",
       "      <td>94796.000000</td>\n",
       "      <td>7.620354e+07</td>\n",
       "      <td>412.000000</td>\n",
       "      <td>7.030000e+08</td>\n",
       "      <td>4.130000e+11</td>\n",
       "      <td>7.000000</td>\n",
       "      <td>7462.000000</td>\n",
       "      <td>10017.000000</td>\n",
       "      <td>9.728112e+06</td>\n",
       "      <td>333.000000</td>\n",
       "      <td>1.000000</td>\n",
       "      <td>3.000000</td>\n",
       "      <td>1.356398e+08</td>\n",
       "      <td>1.439277e+08</td>\n",
       "      <td>251.000000</td>\n",
       "      <td>557.000000</td>\n",
       "      <td>3838.000000</td>\n",
       "      <td>1.000000</td>\n",
       "    </tr>\n",
       "    <tr>\n",
       "      <th>max</th>\n",
       "      <td>42935.000000</td>\n",
       "      <td>10.000000</td>\n",
       "      <td>260006.000000</td>\n",
       "      <td>1.471280e+08</td>\n",
       "      <td>1881.000000</td>\n",
       "      <td>9.990000e+08</td>\n",
       "      <td>1.880000e+12</td>\n",
       "      <td>17.000000</td>\n",
       "      <td>25224.000000</td>\n",
       "      <td>19190.000000</td>\n",
       "      <td>1.495387e+07</td>\n",
       "      <td>639.000000</td>\n",
       "      <td>1.000000</td>\n",
       "      <td>5.000000</td>\n",
       "      <td>1.269982e+09</td>\n",
       "      <td>9.905962e+08</td>\n",
       "      <td>20580.000000</td>\n",
       "      <td>16577.000000</td>\n",
       "      <td>20580.000000</td>\n",
       "      <td>1.000000</td>\n",
       "    </tr>\n",
       "  </tbody>\n",
       "</table>\n",
       "</div>"
      ],
      "text/plain": [
       "                  dt         switch       pktcount     bytecount  \\\n",
       "count  104345.000000  104345.000000  104345.000000  1.043450e+05   \n",
       "mean    17927.514169       4.214260   52860.954746  3.818660e+07   \n",
       "std     11977.642655       1.956327   52023.241460  4.877748e+07   \n",
       "min      2488.000000       1.000000       0.000000  0.000000e+00   \n",
       "25%      7098.000000       3.000000     808.000000  7.957600e+04   \n",
       "50%     11905.000000       4.000000   42828.000000  6.471930e+06   \n",
       "75%     29952.000000       5.000000   94796.000000  7.620354e+07   \n",
       "max     42935.000000      10.000000  260006.000000  1.471280e+08   \n",
       "\n",
       "                 dur      dur_nsec       tot_dur          flows  \\\n",
       "count  104345.000000  1.043450e+05  1.043450e+05  104345.000000   \n",
       "mean      321.497398  4.613880e+08  3.218865e+11       5.654234   \n",
       "std       283.518232  2.770019e+08  2.834029e+11       2.950036   \n",
       "min         0.000000  0.000000e+00  0.000000e+00       2.000000   \n",
       "25%       127.000000  2.340000e+08  1.270000e+11       3.000000   \n",
       "50%       251.000000  4.180000e+08  2.520000e+11       5.000000   \n",
       "75%       412.000000  7.030000e+08  4.130000e+11       7.000000   \n",
       "max      1881.000000  9.990000e+08  1.880000e+12      17.000000   \n",
       "\n",
       "           packetins     pktperflow   byteperflow        pktrate  \\\n",
       "count  104345.000000  104345.000000  1.043450e+05  104345.000000   \n",
       "mean     5200.383468    6381.715291  4.716150e+06     212.210676   \n",
       "std      5257.001450    7404.777808  7.560116e+06     246.855123   \n",
       "min         4.000000 -130933.000000 -1.464426e+08   -4365.000000   \n",
       "25%      1943.000000      29.000000  2.842000e+03       0.000000   \n",
       "50%      3024.000000    8305.000000  5.521680e+05     276.000000   \n",
       "75%      7462.000000   10017.000000  9.728112e+06     333.000000   \n",
       "max     25224.000000   19190.000000  1.495387e+07     639.000000   \n",
       "\n",
       "            Pairflow        port_no      tx_bytes      rx_bytes  \\\n",
       "count  104345.000000  104345.000000  1.043450e+05  1.043450e+05   \n",
       "mean        0.600987       2.331094  9.325264e+07  9.328039e+07   \n",
       "std         0.489698       1.084333  1.519380e+08  1.330004e+08   \n",
       "min         0.000000       1.000000  2.527000e+03  8.560000e+02   \n",
       "25%         0.000000       1.000000  4.743000e+03  3.539000e+03   \n",
       "50%         1.000000       2.000000  4.219610e+06  1.338339e+07   \n",
       "75%         1.000000       3.000000  1.356398e+08  1.439277e+08   \n",
       "max         1.000000       5.000000  1.269982e+09  9.905962e+08   \n",
       "\n",
       "             tx_kbps        rx_kbps       tot_kbps          label  \n",
       "count  104345.000000  103839.000000  103839.000000  104345.000000  \n",
       "mean      998.899756    1003.811420    2007.578742       0.390857  \n",
       "std      2423.471618    2054.887034    3144.437173       0.487945  \n",
       "min         0.000000       0.000000       0.000000       0.000000  \n",
       "25%         0.000000       0.000000       0.000000       0.000000  \n",
       "50%         0.000000       0.000000       4.000000       0.000000  \n",
       "75%       251.000000     557.000000    3838.000000       1.000000  \n",
       "max     20580.000000   16577.000000   20580.000000       1.000000  "
      ]
     },
     "execution_count": 7,
     "metadata": {},
     "output_type": "execute_result"
    }
   ],
   "source": [
    "df.describe()"
   ]
  },
  {
   "cell_type": "code",
   "execution_count": 8,
   "metadata": {},
   "outputs": [
    {
     "data": {
      "text/plain": [
       "Index(['dt', 'switch', 'src', 'dst', 'pktcount', 'bytecount', 'dur',\n",
       "       'dur_nsec', 'tot_dur', 'flows', 'packetins', 'pktperflow',\n",
       "       'byteperflow', 'pktrate', 'Pairflow', 'Protocol', 'port_no', 'tx_bytes',\n",
       "       'rx_bytes', 'tx_kbps', 'rx_kbps', 'tot_kbps', 'label'],\n",
       "      dtype='object')"
      ]
     },
     "execution_count": 8,
     "metadata": {},
     "output_type": "execute_result"
    }
   ],
   "source": [
    "column_names= df.columns\n",
    "column_names"
   ]
  },
  {
   "cell_type": "code",
   "execution_count": 9,
   "metadata": {},
   "outputs": [
    {
     "data": {
      "text/plain": [
       "Text(0, 0.5, 'Count')"
      ]
     },
     "execution_count": 9,
     "metadata": {},
     "output_type": "execute_result"
    },
    {
     "data": {
      "image/png": "[encoded data removed]",
      "text/plain": [
       "<Figure size 640x480 with 1 Axes>"
      ]
     },
     "metadata": {},
     "output_type": "display_data"
    }
   ],
   "source": [
    "df.isnull().sum().plot.bar()\n",
    "plt.title(\"NULL Values for each column \")\n",
    "plt.xlabel(\"Column names\")\n",
    "plt.ylabel(\"Count\")"
   ]
  },
  {
   "cell_type": "code",
   "execution_count": 10,
   "metadata": {},
   "outputs": [],
   "source": [
    "df=df.dropna()"
   ]
  },
  {
   "cell_type": "code",
   "execution_count": 11,
   "metadata": {},
   "outputs": [
    {
     "name": "stdout",
     "output_type": "stream",
     "text": [
      "<class 'pandas.core.frame.DataFrame'>\n",
      "Index: 103839 entries, 0 to 104344\n",
      "Data columns (total 23 columns):\n",
      " #   Column       Non-Null Count   Dtype  \n",
      "---  ------       --------------   -----  \n",
      " 0   dt           103839 non-null  int64  \n",
      " 1   switch       103839 non-null  int64  \n",
      " 2   src          103839 non-null  object \n",
      " 3   dst          103839 non-null  object \n",
      " 4   pktcount     103839 non-null  int64  \n",
      " 5   bytecount    103839 non-null  int64  \n",
      " 6   dur          103839 non-null  int64  \n",
      " 7   dur_nsec     103839 non-null  int64  \n",
      " 8   tot_dur      103839 non-null  float64\n",
      " 9   flows        103839 non-null  int64  \n",
      " 10  packetins    103839 non-null  int64  \n",
      " 11  pktperflow   103839 non-null  int64  \n",
      " 12  byteperflow  103839 non-null  int64  \n",
      " 13  pktrate      103839 non-null  int64  \n",
      " 14  Pairflow     103839 non-null  int64  \n",
      " 15  Protocol     103839 non-null  object \n",
      " 16  port_no      103839 non-null  int64  \n",
      " 17  tx_bytes     103839 non-null  int64  \n",
      " 18  rx_bytes     103839 non-null  int64  \n",
      " 19  tx_kbps      103839 non-null  int64  \n",
      " 20  rx_kbps      103839 non-null  float64\n",
      " 21  tot_kbps     103839 non-null  float64\n",
      " 22  label        103839 non-null  int64  \n",
      "dtypes: float64(3), int64(17), object(3)\n",
      "memory usage: 19.0+ MB\n"
     ]
    }
   ],
   "source": [
    "df.info()"
   ]
  },
  {
   "cell_type": "code",
   "execution_count": 12,
   "metadata": {},
   "outputs": [
    {
     "name": "stdout",
     "output_type": "stream",
     "text": [
      "Total destination :  18\n",
      "Different destination :  ['10.0.0.8' '10.0.0.7' '10.0.0.3' '10.0.0.5' '10.0.0.10' '10.0.0.13'\n",
      " '10.0.0.1' '10.0.0.11' '10.0.0.2' '10.0.0.4' '10.0.0.9' '10.0.0.6'\n",
      " '10.0.0.14' '10.0.0.15' '10.0.0.12' '10.0.0.16' '10.0.0.17' '10.0.0.18']\n"
     ]
    }
   ],
   "source": [
    "uniq_dest=df['dst'].unique()\n",
    "total_dst=len(uniq_dest)\n",
    "print(\"Total destination : \", total_dst)\n",
    "print(\"Different destination : \",uniq_dest)"
   ]
  },
  {
   "cell_type": "code",
   "execution_count": 13,
   "metadata": {},
   "outputs": [
    {
     "data": {
      "text/plain": [
       "Text(0.5, 1.0, 'Traffic for normal and Malicious traffic')"
      ]
     },
     "execution_count": 13,
     "metadata": {},
     "output_type": "execute_result"
    },
    {
     "data": {
      "image/png": "[encoded data removed]",
      "text/plain": [
       "<Figure size 640x480 with 1 Axes>"
      ]
     },
     "metadata": {},
     "output_type": "display_data"
    }
   ],
   "source": [
    "gp=df.groupby('label')['label'].count()\n",
    "plt.bar(list(gp.index),list(gp.values),color=['g','r'])\n",
    "plt.xticks(list(gp.index))\n",
    "plt.xlabel(\"Traffic label\")\n",
    "plt.ylabel(\"Count\")\n",
    "plt.title(\"Traffic for normal and Malicious traffic\")"
   ]
  },
  {
   "cell_type": "code",
   "execution_count": 45,
   "metadata": {},
   "outputs": [
    {
     "data": {
      "image/png": "[encoded data removed]",
      "text/plain": [
       "<Figure size 1300x800 with 1 Axes>"
      ]
     },
     "metadata": {},
     "output_type": "display_data"
    }
   ],
   "source": [
    "labels = [\"Maliciuous\",'Benign']\n",
    "sizes = [dict(df.label.value_counts())[0], dict(df.label.value_counts())[1]]\n",
    "plt.figure(figsize = (13,8))\n",
    "plt.pie(sizes, labels=labels, autopct='%1.1f%%',\n",
    "        shadow=True, startangle=90)\n",
    "plt.legend([\"Maliciuous\", \"Benign\"])\n",
    "plt.title('The percentage of Benign and Maliciuos Requests in dataset')\n",
    "plt.show()"
   ]
  },
  {
   "cell_type": "code",
   "execution_count": 15,
   "metadata": {},
   "outputs": [
    {
     "data": {
      "text/plain": [
       "Text(0.5, 1.0, 'Attack and Normal traffic ')"
      ]
     },
     "execution_count": 15,
     "metadata": {},
     "output_type": "execute_result"
    },
    {
     "data": {
      "image/png": "[encoded data removed]",
      "text/plain": [
       "<Figure size 640x480 with 1 Axes>"
      ]
     },
     "metadata": {},
     "output_type": "display_data"
    }
   ],
   "source": [
    "ip_addr=df[df['label']==0].groupby('dst').count()['label'].index\n",
    "normal_traffic=df.groupby(['dst','label']).size().unstack().fillna(0)[0]\n",
    "attack_traffic=df.groupby(['dst','label']).size().unstack().fillna(0)[1]\n",
    "plt.barh(ip_addr,normal_traffic,color='g', label='Normal Traffic')\n",
    "plt.barh(ip_addr,attack_traffic,color='r', label='Attack Traffic')\n",
    "plt.legend()\n",
    "plt.xlabel(\"Count\")\n",
    "plt.ylabel(\"Destination IP Adresses\")\n",
    "plt.title(\"Attack and Normal traffic \")"
   ]
  },
  {
   "cell_type": "code",
   "execution_count": 16,
   "metadata": {},
   "outputs": [
    {
     "name": "stdout",
     "output_type": "stream",
     "text": [
      "['src', 'dst', 'Protocol', 'port_no']\n"
     ]
    },
    {
     "data": {
      "text/html": [
       "<div>\n",
       "<style scoped>\n",
       "    .dataframe tbody tr th:only-of-type {\n",
       "        vertical-align: middle;\n",
       "    }\n",
       "\n",
       "    .dataframe tbody tr th {\n",
       "        vertical-align: top;\n",
       "    }\n",
       "\n",
       "    .dataframe thead th {\n",
       "        text-align: right;\n",
       "    }\n",
       "</style>\n",
       "<table border=\"1\" class=\"dataframe\">\n",
       "  <thead>\n",
       "    <tr style=\"text-align: right;\">\n",
       "      <th></th>\n",
       "      <th>dt</th>\n",
       "      <th>switch</th>\n",
       "      <th>pktcount</th>\n",
       "      <th>bytecount</th>\n",
       "      <th>dur</th>\n",
       "      <th>dur_nsec</th>\n",
       "      <th>tot_dur</th>\n",
       "      <th>flows</th>\n",
       "      <th>packetins</th>\n",
       "      <th>pktperflow</th>\n",
       "      <th>byteperflow</th>\n",
       "      <th>pktrate</th>\n",
       "      <th>Pairflow</th>\n",
       "      <th>tx_bytes</th>\n",
       "      <th>rx_bytes</th>\n",
       "      <th>tx_kbps</th>\n",
       "      <th>rx_kbps</th>\n",
       "      <th>tot_kbps</th>\n",
       "      <th>label</th>\n",
       "    </tr>\n",
       "  </thead>\n",
       "  <tbody>\n",
       "    <tr>\n",
       "      <th>46116</th>\n",
       "      <td>26657</td>\n",
       "      <td>8</td>\n",
       "      <td>20</td>\n",
       "      <td>1960</td>\n",
       "      <td>21</td>\n",
       "      <td>201000000</td>\n",
       "      <td>2.120100e+10</td>\n",
       "      <td>3</td>\n",
       "      <td>10</td>\n",
       "      <td>0</td>\n",
       "      <td>0</td>\n",
       "      <td>0</td>\n",
       "      <td>1</td>\n",
       "      <td>5327</td>\n",
       "      <td>5327</td>\n",
       "      <td>0</td>\n",
       "      <td>0.0</td>\n",
       "      <td>0.0</td>\n",
       "      <td>0</td>\n",
       "    </tr>\n",
       "    <tr>\n",
       "      <th>46117</th>\n",
       "      <td>26657</td>\n",
       "      <td>8</td>\n",
       "      <td>20</td>\n",
       "      <td>1960</td>\n",
       "      <td>21</td>\n",
       "      <td>201000000</td>\n",
       "      <td>2.120100e+10</td>\n",
       "      <td>3</td>\n",
       "      <td>10</td>\n",
       "      <td>0</td>\n",
       "      <td>0</td>\n",
       "      <td>0</td>\n",
       "      <td>1</td>\n",
       "      <td>5457</td>\n",
       "      <td>3104</td>\n",
       "      <td>0</td>\n",
       "      <td>0.0</td>\n",
       "      <td>0.0</td>\n",
       "      <td>0</td>\n",
       "    </tr>\n",
       "    <tr>\n",
       "      <th>46118</th>\n",
       "      <td>26657</td>\n",
       "      <td>8</td>\n",
       "      <td>20</td>\n",
       "      <td>1960</td>\n",
       "      <td>21</td>\n",
       "      <td>201000000</td>\n",
       "      <td>2.120100e+10</td>\n",
       "      <td>3</td>\n",
       "      <td>10</td>\n",
       "      <td>0</td>\n",
       "      <td>0</td>\n",
       "      <td>0</td>\n",
       "      <td>1</td>\n",
       "      <td>3227</td>\n",
       "      <td>3185</td>\n",
       "      <td>0</td>\n",
       "      <td>0.0</td>\n",
       "      <td>0.0</td>\n",
       "      <td>0</td>\n",
       "    </tr>\n",
       "    <tr>\n",
       "      <th>46119</th>\n",
       "      <td>26657</td>\n",
       "      <td>8</td>\n",
       "      <td>20</td>\n",
       "      <td>1960</td>\n",
       "      <td>21</td>\n",
       "      <td>201000000</td>\n",
       "      <td>2.120100e+10</td>\n",
       "      <td>3</td>\n",
       "      <td>10</td>\n",
       "      <td>0</td>\n",
       "      <td>0</td>\n",
       "      <td>0</td>\n",
       "      <td>1</td>\n",
       "      <td>3357</td>\n",
       "      <td>1122</td>\n",
       "      <td>0</td>\n",
       "      <td>0.0</td>\n",
       "      <td>0.0</td>\n",
       "      <td>0</td>\n",
       "    </tr>\n",
       "    <tr>\n",
       "      <th>46120</th>\n",
       "      <td>26657</td>\n",
       "      <td>8</td>\n",
       "      <td>20</td>\n",
       "      <td>1960</td>\n",
       "      <td>21</td>\n",
       "      <td>43000000</td>\n",
       "      <td>2.104300e+10</td>\n",
       "      <td>3</td>\n",
       "      <td>10</td>\n",
       "      <td>0</td>\n",
       "      <td>0</td>\n",
       "      <td>0</td>\n",
       "      <td>1</td>\n",
       "      <td>5327</td>\n",
       "      <td>5327</td>\n",
       "      <td>0</td>\n",
       "      <td>0.0</td>\n",
       "      <td>0.0</td>\n",
       "      <td>0</td>\n",
       "    </tr>\n",
       "    <tr>\n",
       "      <th>...</th>\n",
       "      <td>...</td>\n",
       "      <td>...</td>\n",
       "      <td>...</td>\n",
       "      <td>...</td>\n",
       "      <td>...</td>\n",
       "      <td>...</td>\n",
       "      <td>...</td>\n",
       "      <td>...</td>\n",
       "      <td>...</td>\n",
       "      <td>...</td>\n",
       "      <td>...</td>\n",
       "      <td>...</td>\n",
       "      <td>...</td>\n",
       "      <td>...</td>\n",
       "      <td>...</td>\n",
       "      <td>...</td>\n",
       "      <td>...</td>\n",
       "      <td>...</td>\n",
       "      <td>...</td>\n",
       "    </tr>\n",
       "    <tr>\n",
       "      <th>104340</th>\n",
       "      <td>5262</td>\n",
       "      <td>3</td>\n",
       "      <td>79</td>\n",
       "      <td>7742</td>\n",
       "      <td>81</td>\n",
       "      <td>842000000</td>\n",
       "      <td>8.184200e+10</td>\n",
       "      <td>5</td>\n",
       "      <td>10</td>\n",
       "      <td>29</td>\n",
       "      <td>2842</td>\n",
       "      <td>0</td>\n",
       "      <td>0</td>\n",
       "      <td>15209</td>\n",
       "      <td>12720</td>\n",
       "      <td>1</td>\n",
       "      <td>1.0</td>\n",
       "      <td>2.0</td>\n",
       "      <td>0</td>\n",
       "    </tr>\n",
       "    <tr>\n",
       "      <th>104341</th>\n",
       "      <td>5262</td>\n",
       "      <td>3</td>\n",
       "      <td>79</td>\n",
       "      <td>7742</td>\n",
       "      <td>81</td>\n",
       "      <td>842000000</td>\n",
       "      <td>8.184200e+10</td>\n",
       "      <td>5</td>\n",
       "      <td>10</td>\n",
       "      <td>29</td>\n",
       "      <td>2842</td>\n",
       "      <td>0</td>\n",
       "      <td>0</td>\n",
       "      <td>15099</td>\n",
       "      <td>14693</td>\n",
       "      <td>1</td>\n",
       "      <td>1.0</td>\n",
       "      <td>2.0</td>\n",
       "      <td>0</td>\n",
       "    </tr>\n",
       "    <tr>\n",
       "      <th>104342</th>\n",
       "      <td>5262</td>\n",
       "      <td>3</td>\n",
       "      <td>31</td>\n",
       "      <td>3038</td>\n",
       "      <td>31</td>\n",
       "      <td>805000000</td>\n",
       "      <td>3.180500e+10</td>\n",
       "      <td>5</td>\n",
       "      <td>10</td>\n",
       "      <td>30</td>\n",
       "      <td>2940</td>\n",
       "      <td>1</td>\n",
       "      <td>0</td>\n",
       "      <td>3409</td>\n",
       "      <td>3731</td>\n",
       "      <td>0</td>\n",
       "      <td>0.0</td>\n",
       "      <td>0.0</td>\n",
       "      <td>0</td>\n",
       "    </tr>\n",
       "    <tr>\n",
       "      <th>104343</th>\n",
       "      <td>5262</td>\n",
       "      <td>3</td>\n",
       "      <td>31</td>\n",
       "      <td>3038</td>\n",
       "      <td>31</td>\n",
       "      <td>805000000</td>\n",
       "      <td>3.180500e+10</td>\n",
       "      <td>5</td>\n",
       "      <td>10</td>\n",
       "      <td>30</td>\n",
       "      <td>2940</td>\n",
       "      <td>1</td>\n",
       "      <td>0</td>\n",
       "      <td>15209</td>\n",
       "      <td>12720</td>\n",
       "      <td>1</td>\n",
       "      <td>1.0</td>\n",
       "      <td>2.0</td>\n",
       "      <td>0</td>\n",
       "    </tr>\n",
       "    <tr>\n",
       "      <th>104344</th>\n",
       "      <td>5262</td>\n",
       "      <td>3</td>\n",
       "      <td>31</td>\n",
       "      <td>3038</td>\n",
       "      <td>31</td>\n",
       "      <td>805000000</td>\n",
       "      <td>3.180500e+10</td>\n",
       "      <td>5</td>\n",
       "      <td>10</td>\n",
       "      <td>30</td>\n",
       "      <td>2940</td>\n",
       "      <td>1</td>\n",
       "      <td>0</td>\n",
       "      <td>15099</td>\n",
       "      <td>14693</td>\n",
       "      <td>1</td>\n",
       "      <td>1.0</td>\n",
       "      <td>2.0</td>\n",
       "      <td>0</td>\n",
       "    </tr>\n",
       "  </tbody>\n",
       "</table>\n",
       "<p>41321 rows × 19 columns</p>\n",
       "</div>"
      ],
      "text/plain": [
       "           dt  switch  pktcount  bytecount  dur   dur_nsec       tot_dur  \\\n",
       "46116   26657       8        20       1960   21  201000000  2.120100e+10   \n",
       "46117   26657       8        20       1960   21  201000000  2.120100e+10   \n",
       "46118   26657       8        20       1960   21  201000000  2.120100e+10   \n",
       "46119   26657       8        20       1960   21  201000000  2.120100e+10   \n",
       "46120   26657       8        20       1960   21   43000000  2.104300e+10   \n",
       "...       ...     ...       ...        ...  ...        ...           ...   \n",
       "104340   5262       3        79       7742   81  842000000  8.184200e+10   \n",
       "104341   5262       3        79       7742   81  842000000  8.184200e+10   \n",
       "104342   5262       3        31       3038   31  805000000  3.180500e+10   \n",
       "104343   5262       3        31       3038   31  805000000  3.180500e+10   \n",
       "104344   5262       3        31       3038   31  805000000  3.180500e+10   \n",
       "\n",
       "        flows  packetins  pktperflow  byteperflow  pktrate  Pairflow  \\\n",
       "46116       3         10           0            0        0         1   \n",
       "46117       3         10           0            0        0         1   \n",
       "46118       3         10           0            0        0         1   \n",
       "46119       3         10           0            0        0         1   \n",
       "46120       3         10           0            0        0         1   \n",
       "...       ...        ...         ...          ...      ...       ...   \n",
       "104340      5         10          29         2842        0         0   \n",
       "104341      5         10          29         2842        0         0   \n",
       "104342      5         10          30         2940        1         0   \n",
       "104343      5         10          30         2940        1         0   \n",
       "104344      5         10          30         2940        1         0   \n",
       "\n",
       "        tx_bytes  rx_bytes  tx_kbps  rx_kbps  tot_kbps  label  \n",
       "46116       5327      5327        0      0.0       0.0      0  \n",
       "46117       5457      3104        0      0.0       0.0      0  \n",
       "46118       3227      3185        0      0.0       0.0      0  \n",
       "46119       3357      1122        0      0.0       0.0      0  \n",
       "46120       5327      5327        0      0.0       0.0      0  \n",
       "...          ...       ...      ...      ...       ...    ...  \n",
       "104340     15209     12720        1      1.0       2.0      0  \n",
       "104341     15099     14693        1      1.0       2.0      0  \n",
       "104342      3409      3731        0      0.0       0.0      0  \n",
       "104343     15209     12720        1      1.0       2.0      0  \n",
       "104344     15099     14693        1      1.0       2.0      0  \n",
       "\n",
       "[41321 rows x 19 columns]"
      ]
     },
     "execution_count": 16,
     "metadata": {},
     "output_type": "execute_result"
    }
   ],
   "source": [
    "object_col= list(df.select_dtypes(include=['object']).columns)\n",
    "object_col=object_col+['port_no']\n",
    "print(object_col)\n",
    "data=df.drop(columns=object_col)\n",
    "\n",
    "# seperating data based on protocol\n",
    "udp_df = df[df['Protocol']=='UDP'].drop(columns=object_col)\n",
    "tcp_df = df[df['Protocol']=='TCP'].drop(columns=object_col)\n",
    "icmp_df = df[df['Protocol']=='ICMP'].drop(columns=object_col)\n",
    "icmp_df"
   ]
  },
  {
   "cell_type": "markdown",
   "metadata": {},
   "source": [
    "Data model building"
   ]
  },
  {
   "cell_type": "code",
   "execution_count": 17,
   "metadata": {},
   "outputs": [],
   "source": [
    "from sklearn.model_selection import train_test_split\n",
    "from sklearn.mixture import GaussianMixture"
   ]
  },
  {
   "cell_type": "markdown",
   "metadata": {},
   "source": [
    "GMM"
   ]
  },
  {
   "cell_type": "markdown",
   "metadata": {},
   "source": [
    "UDP Protocol"
   ]
  },
  {
   "cell_type": "code",
   "execution_count": 18,
   "metadata": {},
   "outputs": [
    {
     "name": "stdout",
     "output_type": "stream",
     "text": [
      "GMM Accuracy training data :  0.07993263376084984\n",
      "GMM Accuracy testing data :  0.07697732997481108\n"
     ]
    }
   ],
   "source": [
    "udp_train,udp_test, udp_train_label, udp_test_label= train_test_split(udp_df[udp_df.columns[:-1]],udp_df['label'],test_size=0.3,random_state=42)\n",
    "\n",
    "gmm= GaussianMixture(n_components=2)\n",
    "gmm.fit(udp_train)\n",
    "print(\"GMM Accuracy training data : \",metrics.accuracy_score(udp_train_label, gmm.predict(udp_train)))\n",
    "print(\"GMM Accuracy testing data : \", metrics.accuracy_score(udp_test_label,gmm.predict(udp_test)))"
   ]
  },
  {
   "cell_type": "markdown",
   "metadata": {},
   "source": [
    "TCP Protocol"
   ]
  },
  {
   "cell_type": "code",
   "execution_count": 19,
   "metadata": {},
   "outputs": [
    {
     "name": "stdout",
     "output_type": "stream",
     "text": [
      "GMM Accuracy training data :  0.3846639165251153\n",
      "GMM Accuracy testing data :  0.3885177216623259\n"
     ]
    }
   ],
   "source": [
    "tcp_train,tcp_test, tcp_train_label, tcp_test_label= train_test_split(tcp_df[tcp_df.columns[:-1]],tcp_df['label'],test_size=0.3,random_state=42)\n",
    "\n",
    "gmm= GaussianMixture(n_components=2)\n",
    "gmm.fit(tcp_train)\n",
    "print(\"GMM Accuracy training data : \",metrics.accuracy_score(tcp_train_label, gmm.predict(tcp_train)))\n",
    "print(\"GMM Accuracy testing data : \", metrics.accuracy_score(tcp_test_label,gmm.predict(tcp_test)))"
   ]
  },
  {
   "cell_type": "markdown",
   "metadata": {},
   "source": [
    "ICMP Protocol"
   ]
  },
  {
   "cell_type": "code",
   "execution_count": 20,
   "metadata": {},
   "outputs": [
    {
     "name": "stdout",
     "output_type": "stream",
     "text": [
      "GMM Accuracy training data :  0.0725003457336468\n",
      "GMM Accuracy testing data :  0.07880938936839559\n"
     ]
    }
   ],
   "source": [
    "icmp_train,icmp_test, icmp_train_label, icmp_test_label= train_test_split(icmp_df[icmp_df.columns[:-1]],icmp_df['label'],test_size=0.3,random_state=42)\n",
    "\n",
    "# GMM model \n",
    "\n",
    "gmm= GaussianMixture(n_components=2)\n",
    "gmm.fit(icmp_train)\n",
    "print(\"GMM Accuracy training data : \",metrics.accuracy_score(icmp_train_label, gmm.predict(icmp_train)))\n",
    "print(\"GMM Accuracy testing data : \", metrics.accuracy_score(icmp_test_label,gmm.predict(icmp_test)))"
   ]
  },
  {
   "cell_type": "markdown",
   "metadata": {},
   "source": [
    "Linear Perceptron"
   ]
  },
  {
   "cell_type": "code",
   "execution_count": 21,
   "metadata": {},
   "outputs": [],
   "source": [
    "from sklearn.linear_model import Perceptron"
   ]
  },
  {
   "cell_type": "markdown",
   "metadata": {},
   "source": [
    "UDP"
   ]
  },
  {
   "cell_type": "code",
   "execution_count": 22,
   "metadata": {},
   "outputs": [
    {
     "data": {
      "text/plain": [
       "0.47665932547393874"
      ]
     },
     "execution_count": 22,
     "metadata": {},
     "output_type": "execute_result"
    }
   ],
   "source": [
    "model = Perceptron(random_state=67)\n",
    "model.fit(udp_train,udp_train_label)\n",
    "model.score(udp_train,udp_train_label)"
   ]
  },
  {
   "cell_type": "markdown",
   "metadata": {},
   "source": [
    "TCP"
   ]
  },
  {
   "cell_type": "code",
   "execution_count": 23,
   "metadata": {},
   "outputs": [
    {
     "data": {
      "text/plain": [
       "0.5268624120359137"
      ]
     },
     "execution_count": 23,
     "metadata": {},
     "output_type": "execute_result"
    }
   ],
   "source": [
    "model = Perceptron(random_state=1)\n",
    "model.fit(tcp_train,tcp_train_label)\n",
    "model.score(tcp_train,tcp_train_label)"
   ]
  },
  {
   "cell_type": "markdown",
   "metadata": {},
   "source": [
    "ICMP"
   ]
  },
  {
   "cell_type": "code",
   "execution_count": 24,
   "metadata": {},
   "outputs": [
    {
     "data": {
      "text/plain": [
       "0.7722998202185036"
      ]
     },
     "execution_count": 24,
     "metadata": {},
     "output_type": "execute_result"
    }
   ],
   "source": [
    "model = Perceptron(random_state=1)\n",
    "model.fit(icmp_train,icmp_train_label)\n",
    "model.score(icmp_train,icmp_train_label)"
   ]
  },
  {
   "cell_type": "markdown",
   "metadata": {},
   "source": [
    "Multi-Layer Perceptron"
   ]
  },
  {
   "cell_type": "code",
   "execution_count": 25,
   "metadata": {},
   "outputs": [],
   "source": [
    "from sklearn.neural_network import MLPClassifier"
   ]
  },
  {
   "cell_type": "markdown",
   "metadata": {},
   "source": [
    "UDP"
   ]
  },
  {
   "cell_type": "code",
   "execution_count": 26,
   "metadata": {},
   "outputs": [
    {
     "data": {
      "text/plain": [
       "0.9414609571788413"
      ]
     },
     "execution_count": 26,
     "metadata": {},
     "output_type": "execute_result"
    }
   ],
   "source": [
    "clf= MLPClassifier(hidden_layer_sizes=(16,10),\n",
    "                  random_state=5,\n",
    "                  learning_rate_init=0.01)\n",
    "clf.fit(udp_train,udp_train_label)\n",
    "metrics.accuracy_score(clf.predict(udp_test), udp_test_label)"
   ]
  },
  {
   "cell_type": "markdown",
   "metadata": {},
   "source": [
    "TCP"
   ]
  },
  {
   "cell_type": "code",
   "execution_count": 27,
   "metadata": {},
   "outputs": [
    {
     "name": "stdout",
     "output_type": "stream",
     "text": [
      "0.6394519306986751\n"
     ]
    }
   ],
   "source": [
    "clf= MLPClassifier(hidden_layer_sizes=(18,12),\n",
    "          random_state=5,\n",
    "          learning_rate_init=0.01)\n",
    "clf.fit(tcp_train,tcp_train_label)\n",
    "print(metrics.accuracy_score(clf.predict(tcp_test), tcp_test_label))"
   ]
  },
  {
   "cell_type": "markdown",
   "metadata": {},
   "source": [
    "ICMP"
   ]
  },
  {
   "cell_type": "code",
   "execution_count": 28,
   "metadata": {},
   "outputs": [
    {
     "data": {
      "text/plain": [
       "0.999919335323062"
      ]
     },
     "execution_count": 28,
     "metadata": {},
     "output_type": "execute_result"
    }
   ],
   "source": [
    "clf= MLPClassifier(hidden_layer_sizes=(16,10),\n",
    "                  random_state=5,\n",
    "                  learning_rate_init=0.01)\n",
    "clf.fit(icmp_train,icmp_train_label)\n",
    "metrics.accuracy_score(clf.predict(icmp_test), icmp_test_label)"
   ]
  },
  {
   "cell_type": "markdown",
   "metadata": {},
   "source": [
    "KNN"
   ]
  },
  {
   "cell_type": "code",
   "execution_count": 29,
   "metadata": {},
   "outputs": [],
   "source": [
    "from sklearn.neighbors import KNeighborsClassifier\n",
    "from sklearn.model_selection import train_test_split\n",
    "from sklearn.datasets import load_iris"
   ]
  },
  {
   "cell_type": "markdown",
   "metadata": {},
   "source": [
    "UDP"
   ]
  },
  {
   "cell_type": "code",
   "execution_count": 30,
   "metadata": {},
   "outputs": [
    {
     "name": "stdout",
     "output_type": "stream",
     "text": [
      "KNN Accuracy test data for UDP:  0.9621158690176322\n"
     ]
    }
   ],
   "source": [
    "## Create feature and target arrays\n",
    "#X = udp_train\n",
    "#y = udp_train_label\n",
    "#\n",
    "#knn = KNeighborsClassifier(n_neighbors=7)\n",
    "#\n",
    "#knn.fit(X, y)\n",
    "#\n",
    "## Calculate the accuracy of the model\n",
    "#print(knn.score(udp_test, udp_test_label))\n",
    "#print(\"GMM Accuracy training data : \",metrics.accuracy_score(udp_train_label, gmm.predict(udp_train)))\n",
    "\n",
    "udp_train_array = udp_train.values\n",
    "udp_train_label_array = udp_train_label.values\n",
    "udp_test_array = udp_test.values\n",
    "udp_test_label_array = udp_test_label.values\n",
    "\n",
    "# Create feature and target arrays\n",
    "X = udp_train_array\n",
    "y = udp_train_label_array\n",
    "\n",
    "knn = KNeighborsClassifier(n_neighbors=7)\n",
    "\n",
    "knn.fit(X, y)\n",
    "\n",
    "# Calculate the accuracy of the model\n",
    "print(\"KNN Accuracy test data for UDP: \", knn.score(udp_test_array, udp_test_label_array))"
   ]
  },
  {
   "cell_type": "markdown",
   "metadata": {},
   "source": [
    "TCP"
   ]
  },
  {
   "cell_type": "code",
   "execution_count": 31,
   "metadata": {},
   "outputs": [
    {
     "name": "stdout",
     "output_type": "stream",
     "text": [
      "KNN Accuracy test data for TCP:  0.7990035103612275\n"
     ]
    }
   ],
   "source": [
    "#X = tcp_train\n",
    "#y = tcp_train_label\n",
    "#\n",
    "#knn = KNeighborsClassifier(n_neighbors=7)\n",
    "#\n",
    "#knn.fit(X, y)\n",
    "#\n",
    "## Calculate the accuracy of the model\n",
    "#print(knn.score(tcp_test, tcp_test_label))\n",
    "\n",
    "tcp_train_array = tcp_train.values\n",
    "tcp_train_label_array = tcp_train_label.values\n",
    "tcp_test_array = tcp_test.values\n",
    "tcp_test_label_array = tcp_test_label.values\n",
    "\n",
    "# Create feature and target arrays\n",
    "X = tcp_train_array\n",
    "y = tcp_train_label_array\n",
    "\n",
    "knn = KNeighborsClassifier(n_neighbors=7)\n",
    "\n",
    "knn.fit(X, y)\n",
    "\n",
    "# Calculate the accuracy of the model\n",
    "print(\"KNN Accuracy test data for TCP: \", knn.score(tcp_test_array, tcp_test_label_array))"
   ]
  },
  {
   "cell_type": "markdown",
   "metadata": {},
   "source": [
    "ICMP"
   ]
  },
  {
   "cell_type": "code",
   "execution_count": 32,
   "metadata": {},
   "outputs": [
    {
     "name": "stdout",
     "output_type": "stream",
     "text": [
      "KNN Accuracy test data for ICMP:  0.9244978623860611\n"
     ]
    }
   ],
   "source": [
    "#X = icmp_train\n",
    "#y = icmp_train_label\n",
    "#\n",
    "#knn = KNeighborsClassifier(n_neighbors=7)\n",
    "#\n",
    "#knn.fit(X, y)\n",
    "#\n",
    "## Calculate the accuracy of the model\n",
    "#print(knn.score(icmp_test, icmp_test_label))\n",
    "\n",
    "icmp_train_array = icmp_train.values\n",
    "icmp_train_label_array = icmp_train_label.values\n",
    "icmp_test_array = icmp_test.values\n",
    "icmp_test_label_array = icmp_test_label.values\n",
    "\n",
    "# Create feature and target arrays\n",
    "X = icmp_train_array\n",
    "y = icmp_train_label_array\n",
    "\n",
    "knn = KNeighborsClassifier(n_neighbors=7)\n",
    "\n",
    "knn.fit(X, y)\n",
    "\n",
    "# Calculate the accuracy of the model\n",
    "print(\"KNN Accuracy test data for ICMP: \", knn.score(icmp_test_array, icmp_test_label_array))"
   ]
  },
  {
   "cell_type": "markdown",
   "metadata": {},
   "source": [
    "SVM"
   ]
  },
  {
   "cell_type": "code",
   "execution_count": 33,
   "metadata": {},
   "outputs": [],
   "source": [
    "from sklearn import svm"
   ]
  },
  {
   "cell_type": "markdown",
   "metadata": {},
   "source": [
    "UDP"
   ]
  },
  {
   "cell_type": "code",
   "execution_count": 34,
   "metadata": {},
   "outputs": [
    {
     "data": {
      "text/plain": [
       "0.6605541561712847"
      ]
     },
     "execution_count": 34,
     "metadata": {},
     "output_type": "execute_result"
    }
   ],
   "source": [
    "clf= svm.SVC(kernel='poly')\n",
    "clf.fit(udp_train,udp_train_label)\n",
    "clf.score(udp_test,udp_test_label)"
   ]
  },
  {
   "cell_type": "markdown",
   "metadata": {},
   "source": [
    "TCP"
   ]
  },
  {
   "cell_type": "code",
   "execution_count": 35,
   "metadata": {},
   "outputs": [
    {
     "data": {
      "text/plain": [
       "0.6720643188766844"
      ]
     },
     "execution_count": 35,
     "metadata": {},
     "output_type": "execute_result"
    }
   ],
   "source": [
    "clf= svm.SVC()\n",
    "clf.fit(tcp_train,tcp_train_label)\n",
    "metrics.accuracy_score(clf.predict(tcp_test),tcp_test_label)"
   ]
  },
  {
   "cell_type": "markdown",
   "metadata": {},
   "source": [
    "ICMP"
   ]
  },
  {
   "cell_type": "code",
   "execution_count": 36,
   "metadata": {},
   "outputs": [
    {
     "data": {
      "text/plain": [
       "0.7991449544244575"
      ]
     },
     "execution_count": 36,
     "metadata": {},
     "output_type": "execute_result"
    }
   ],
   "source": [
    "clf= svm.SVC()\n",
    "clf.fit(icmp_train,icmp_train_label)\n",
    "metrics.accuracy_score(clf.predict(icmp_test),icmp_test_label)"
   ]
  },
  {
   "cell_type": "markdown",
   "metadata": {},
   "source": [
    "Random Forest"
   ]
  },
  {
   "cell_type": "code",
   "execution_count": 37,
   "metadata": {},
   "outputs": [],
   "source": [
    "from sklearn.ensemble import RandomForestRegressor\n",
    "from sklearn.metrics import accuracy_score"
   ]
  },
  {
   "cell_type": "markdown",
   "metadata": {},
   "source": [
    "UDP"
   ]
  },
  {
   "cell_type": "code",
   "execution_count": 38,
   "metadata": {},
   "outputs": [
    {
     "data": {
      "text/plain": [
       "1.0"
      ]
     },
     "execution_count": 38,
     "metadata": {},
     "output_type": "execute_result"
    }
   ],
   "source": [
    "# create regressor object\n",
    "udp_rf = RandomForestRegressor()\n",
    "\n",
    "# fit the regressor with x and y data\n",
    "udp_rf.fit(udp_train,udp_train_label)\n",
    "predi = udp_rf.predict(udp_test)\n",
    "accuracy_score(predi.round(), udp_test_label)"
   ]
  },
  {
   "cell_type": "code",
   "execution_count": 39,
   "metadata": {},
   "outputs": [
    {
     "data": {
      "text/plain": [
       "Text(0, 0.5, 'Importance ')"
      ]
     },
     "execution_count": 39,
     "metadata": {},
     "output_type": "execute_result"
    },
    {
     "data": {
      "image/png": "[encoded data removed]",
      "text/plain": [
       "<Figure size 640x480 with 1 Axes>"
      ]
     },
     "metadata": {},
     "output_type": "display_data"
    }
   ],
   "source": [
    "plt.bar(udp_df.columns[:-1], udp_rf.feature_importances_)\n",
    "plt.xticks(rotation=45)\n",
    "plt.title(\"Feature Importance in deciding class Label\")\n",
    "plt.xlabel(\"Feautre names\")\n",
    "plt.ylabel(\"Importance \")"
   ]
  },
  {
   "cell_type": "markdown",
   "metadata": {},
   "source": [
    "TCP"
   ]
  },
  {
   "cell_type": "code",
   "execution_count": 40,
   "metadata": {},
   "outputs": [
    {
     "data": {
      "text/plain": [
       "1.0"
      ]
     },
     "execution_count": 40,
     "metadata": {},
     "output_type": "execute_result"
    }
   ],
   "source": [
    "# create regressor object\n",
    "tcp_rf = RandomForestRegressor()\n",
    "\n",
    "# fit the regressor with x and y data\n",
    "tcp_rf.fit(tcp_train,tcp_train_label)\n",
    "predi = tcp_rf.predict(tcp_test)\n",
    "accuracy_score(predi.round(), tcp_test_label)"
   ]
  },
  {
   "cell_type": "code",
   "execution_count": 41,
   "metadata": {},
   "outputs": [
    {
     "data": {
      "text/plain": [
       "Text(0, 0.5, 'Importance ')"
      ]
     },
     "execution_count": 41,
     "metadata": {},
     "output_type": "execute_result"
    },
    {
     "data": {
      "image/png": "[encoded data removed]",
      "text/plain": [
       "<Figure size 640x480 with 1 Axes>"
      ]
     },
     "metadata": {},
     "output_type": "display_data"
    }
   ],
   "source": [
    "plt.bar(tcp_df.columns[:-1], tcp_rf.feature_importances_)\n",
    "plt.xticks(rotation=45)\n",
    "plt.title(\"Feature Importance in deciding class Label\")\n",
    "plt.xlabel(\"Feautre names\")\n",
    "plt.ylabel(\"Importance \")"
   ]
  },
  {
   "cell_type": "markdown",
   "metadata": {},
   "source": [
    "ICMP"
   ]
  },
  {
   "cell_type": "code",
   "execution_count": 42,
   "metadata": {},
   "outputs": [
    {
     "data": {
      "text/plain": [
       "1.0"
      ]
     },
     "execution_count": 42,
     "metadata": {},
     "output_type": "execute_result"
    }
   ],
   "source": [
    "# create regressor object\n",
    "icmp_rf = RandomForestRegressor()\n",
    "\n",
    "# fit the regressor with x and y data\n",
    "icmp_rf.fit(icmp_train,icmp_train_label)\n",
    "accuracy_score(icmp_rf.predict(icmp_test).round(), icmp_test_label)"
   ]
  },
  {
   "cell_type": "code",
   "execution_count": 43,
   "metadata": {},
   "outputs": [
    {
     "data": {
      "text/plain": [
       "Text(0, 0.5, 'Importance ')"
      ]
     },
     "execution_count": 43,
     "metadata": {},
     "output_type": "execute_result"
    },
    {
     "data": {
      "image/png": "[encoded data removed]",
      "text/plain": [
       "<Figure size 640x480 with 1 Axes>"
      ]
     },
     "metadata": {},
     "output_type": "display_data"
    }
   ],
   "source": [
    "plt.bar(icmp_df.columns[:-1], icmp_rf.feature_importances_)\n",
    "plt.xticks(rotation=45)\n",
    "plt.title(\"Feature Importance in deciding class Label\")\n",
    "plt.xlabel(\"Feautre names\")\n",
    "plt.ylabel(\"Importance \")"
   ]
  }
 ],
 "metadata": {
  "kernelspec": {
   "display_name": "base",
   "language": "python",
   "name": "python3"
  },
  "language_info": {
   "codemirror_mode": {
    "name": "ipython",
    "version": 3
   },
   "file_extension": ".py",
   "mimetype": "text/x-python",
   "name": "python",
   "nbconvert_exporter": "python",
   "pygments_lexer": "ipython3",
   "version": "3.11.5"
  }
 },
 "nbformat": 4,
 "nbformat_minor": 2
}
